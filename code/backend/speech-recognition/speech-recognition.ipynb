{
 "cells": [
  {
   "cell_type": "code",
   "execution_count": 3,
   "metadata": {},
   "outputs": [
    {
     "name": "stdout",
     "output_type": "stream",
     "text": [
      "Defaulting to user installation because normal site-packages is not writeableNote: you may need to restart the kernel to use updated packages.\n"
     ]
    },
    {
     "name": "stderr",
     "output_type": "stream",
     "text": [
      "\n",
      "[notice] A new release of pip is available: 23.2.1 -> 24.0\n",
      "[notice] To update, run: python.exe -m pip install --upgrade pip\n"
     ]
    },
    {
     "name": "stdout",
     "output_type": "stream",
     "text": [
      "\n",
      "Collecting assemblyai\n",
      "  Obtaining dependency information for assemblyai from https://files.pythonhosted.org/packages/8d/17/a8880e6032f40c1431549f0a3bd058f6e5e19d7938419955cd7bd3feac9d/assemblyai-0.24.0-py3-none-any.whl.metadata\n",
      "  Downloading assemblyai-0.24.0-py3-none-any.whl.metadata (25 kB)\n",
      "Collecting httpx>=0.19.0 (from assemblyai)\n",
      "  Obtaining dependency information for httpx>=0.19.0 from https://files.pythonhosted.org/packages/41/7b/ddacf6dcebb42466abd03f368782142baa82e08fc0c1f8eaa05b4bae87d5/httpx-0.27.0-py3-none-any.whl.metadata\n",
      "  Downloading httpx-0.27.0-py3-none-any.whl.metadata (7.2 kB)\n",
      "Collecting pydantic!=1.10.7,>=1.7.0 (from assemblyai)\n",
      "  Obtaining dependency information for pydantic!=1.10.7,>=1.7.0 from https://files.pythonhosted.org/packages/e5/f3/8296f550276194a58c5500d55b19a27ae0a5a3a51ffef66710c58544b32d/pydantic-2.6.4-py3-none-any.whl.metadata\n",
      "  Downloading pydantic-2.6.4-py3-none-any.whl.metadata (85 kB)\n",
      "     ---------------------------------------- 0.0/85.1 kB ? eta -:--:--\n",
      "     ---------------------------------------- 0.0/85.1 kB ? eta -:--:--\n",
      "     ---- ----------------------------------- 10.2/85.1 kB ? eta -:--:--\n",
      "     ------------------- -------------------- 41.0/85.1 kB ? eta -:--:--\n",
      "     ---------------------- --------------- 51.2/85.1 kB 440.4 kB/s eta 0:00:01\n",
      "     -------------------------------------- 85.1/85.1 kB 686.7 kB/s eta 0:00:00\n",
      "Requirement already satisfied: typing-extensions>=3.7 in c:\\users\\tuf\\appdata\\roaming\\python\\python310\\site-packages (from assemblyai) (4.6.3)\n",
      "Collecting websockets>=11.0 (from assemblyai)\n",
      "  Obtaining dependency information for websockets>=11.0 from https://files.pythonhosted.org/packages/41/b0/5ec054cfcf23adfc88d39359b85e81d043af8a141e3ac8ce40f45a5ce5f4/websockets-12.0-cp310-cp310-win_amd64.whl.metadata\n",
      "  Downloading websockets-12.0-cp310-cp310-win_amd64.whl.metadata (6.8 kB)\n",
      "Requirement already satisfied: anyio in c:\\users\\tuf\\appdata\\roaming\\python\\python310\\site-packages (from httpx>=0.19.0->assemblyai) (3.7.1)\n",
      "Requirement already satisfied: certifi in c:\\users\\tuf\\appdata\\roaming\\python\\python310\\site-packages (from httpx>=0.19.0->assemblyai) (2022.9.24)\n",
      "Collecting httpcore==1.* (from httpx>=0.19.0->assemblyai)\n",
      "  Obtaining dependency information for httpcore==1.* from https://files.pythonhosted.org/packages/78/d4/e5d7e4f2174f8a4d63c8897d79eb8fe2503f7ecc03282fee1fa2719c2704/httpcore-1.0.5-py3-none-any.whl.metadata\n",
      "  Downloading httpcore-1.0.5-py3-none-any.whl.metadata (20 kB)\n",
      "Requirement already satisfied: idna in c:\\users\\tuf\\appdata\\roaming\\python\\python310\\site-packages (from httpx>=0.19.0->assemblyai) (3.4)\n",
      "Requirement already satisfied: sniffio in c:\\users\\tuf\\appdata\\roaming\\python\\python310\\site-packages (from httpx>=0.19.0->assemblyai) (1.3.0)\n",
      "Collecting h11<0.15,>=0.13 (from httpcore==1.*->httpx>=0.19.0->assemblyai)\n",
      "  Obtaining dependency information for h11<0.15,>=0.13 from https://files.pythonhosted.org/packages/95/04/ff642e65ad6b90db43e668d70ffb6736436c7ce41fcc549f4e9472234127/h11-0.14.0-py3-none-any.whl.metadata\n",
      "  Downloading h11-0.14.0-py3-none-any.whl.metadata (8.2 kB)\n",
      "Collecting annotated-types>=0.4.0 (from pydantic!=1.10.7,>=1.7.0->assemblyai)\n",
      "  Obtaining dependency information for annotated-types>=0.4.0 from https://files.pythonhosted.org/packages/28/78/d31230046e58c207284c6b2c4e8d96e6d3cb4e52354721b944d3e1ee4aa5/annotated_types-0.6.0-py3-none-any.whl.metadata\n",
      "  Downloading annotated_types-0.6.0-py3-none-any.whl.metadata (12 kB)\n",
      "Collecting pydantic-core==2.16.3 (from pydantic!=1.10.7,>=1.7.0->assemblyai)\n",
      "  Obtaining dependency information for pydantic-core==2.16.3 from https://files.pythonhosted.org/packages/ec/e8/49d65816802781451af7e758bdf9ff9d976a6b3959e1aab843da9931e89f/pydantic_core-2.16.3-cp310-none-win_amd64.whl.metadata\n",
      "  Downloading pydantic_core-2.16.3-cp310-none-win_amd64.whl.metadata (6.6 kB)\n",
      "Requirement already satisfied: exceptiongroup in c:\\users\\tuf\\appdata\\roaming\\python\\python310\\site-packages (from anyio->httpx>=0.19.0->assemblyai) (1.0.4)\n",
      "Downloading assemblyai-0.24.0-py3-none-any.whl (67 kB)\n",
      "   ---------------------------------------- 0.0/67.1 kB ? eta -:--:--\n",
      "   ------------------------ --------------- 41.0/67.1 kB 991.0 kB/s eta 0:00:01\n",
      "   ---------------------------------------- 67.1/67.1 kB 902.3 kB/s eta 0:00:00\n",
      "Downloading httpx-0.27.0-py3-none-any.whl (75 kB)\n",
      "   ---------------------------------------- 0.0/75.6 kB ? eta -:--:--\n",
      "   ---------------------------------------- 75.6/75.6 kB ? eta 0:00:00\n",
      "Downloading httpcore-1.0.5-py3-none-any.whl (77 kB)\n",
      "   ---------------------------------------- 0.0/77.9 kB ? eta -:--:--\n",
      "   ---------------------------------------- 77.9/77.9 kB 4.2 MB/s eta 0:00:00\n",
      "Downloading pydantic-2.6.4-py3-none-any.whl (394 kB)\n",
      "   ---------------------------------------- 0.0/394.9 kB ? eta -:--:--\n",
      "   ------ --------------------------------- 61.4/394.9 kB 1.1 MB/s eta 0:00:01\n",
      "   ------------ --------------------------- 122.9/394.9 kB 1.2 MB/s eta 0:00:01\n",
      "   ---------------- ----------------------- 163.8/394.9 kB 1.1 MB/s eta 0:00:01\n",
      "   ---------------------- ----------------- 225.3/394.9 kB 1.3 MB/s eta 0:00:01\n",
      "   ----------------------------- ---------- 286.7/394.9 kB 1.2 MB/s eta 0:00:01\n",
      "   ----------------------------------- ---- 348.2/394.9 kB 1.2 MB/s eta 0:00:01\n",
      "   ---------------------------------------- 394.9/394.9 kB 1.2 MB/s eta 0:00:00\n",
      "Downloading pydantic_core-2.16.3-cp310-none-win_amd64.whl (1.9 MB)\n",
      "   ---------------------------------------- 0.0/1.9 MB ? eta -:--:--\n",
      "   - -------------------------------------- 0.1/1.9 MB 2.3 MB/s eta 0:00:01\n",
      "   - -------------------------------------- 0.1/1.9 MB 1.3 MB/s eta 0:00:02\n",
      "   - -------------------------------------- 0.1/1.9 MB 1.3 MB/s eta 0:00:02\n",
      "   --- ------------------------------------ 0.1/1.9 MB 853.3 kB/s eta 0:00:03\n",
      "   --- ------------------------------------ 0.2/1.9 MB 751.6 kB/s eta 0:00:03\n",
      "   ---- ----------------------------------- 0.2/1.9 MB 737.3 kB/s eta 0:00:03\n",
      "   ---- ----------------------------------- 0.2/1.9 MB 657.3 kB/s eta 0:00:03\n",
      "   ----- ---------------------------------- 0.2/1.9 MB 718.0 kB/s eta 0:00:03\n",
      "   ------ --------------------------------- 0.3/1.9 MB 787.7 kB/s eta 0:00:02\n",
      "   ------- -------------------------------- 0.4/1.9 MB 820.1 kB/s eta 0:00:02\n",
      "   --------- ------------------------------ 0.5/1.9 MB 880.6 kB/s eta 0:00:02\n",
      "   ---------- ----------------------------- 0.5/1.9 MB 925.6 kB/s eta 0:00:02\n",
      "   ----------- ---------------------------- 0.5/1.9 MB 937.7 kB/s eta 0:00:02\n",
      "   ----------- ---------------------------- 0.5/1.9 MB 937.7 kB/s eta 0:00:02\n",
      "   ------------ --------------------------- 0.6/1.9 MB 885.1 kB/s eta 0:00:02\n",
      "   ------------- -------------------------- 0.7/1.9 MB 939.0 kB/s eta 0:00:02\n",
      "   ------------- -------------------------- 0.7/1.9 MB 939.0 kB/s eta 0:00:02\n",
      "   ------------- -------------------------- 0.7/1.9 MB 939.0 kB/s eta 0:00:02\n",
      "   --------------- ------------------------ 0.7/1.9 MB 862.4 kB/s eta 0:00:02\n",
      "   ---------------- ----------------------- 0.8/1.9 MB 862.9 kB/s eta 0:00:02\n",
      "   ----------------- ---------------------- 0.8/1.9 MB 859.6 kB/s eta 0:00:02\n",
      "   ------------------ --------------------- 0.9/1.9 MB 895.0 kB/s eta 0:00:02\n",
      "   --------------------- ------------------ 1.0/1.9 MB 953.5 kB/s eta 0:00:01\n",
      "   ---------------------- ----------------- 1.1/1.9 MB 978.4 kB/s eta 0:00:01\n",
      "   ------------------------ --------------- 1.2/1.9 MB 1.0 MB/s eta 0:00:01\n",
      "   -------------------------- ------------- 1.2/1.9 MB 1.0 MB/s eta 0:00:01\n",
      "   --------------------------- ------------ 1.3/1.9 MB 1.1 MB/s eta 0:00:01\n",
      "   --------------------------- ------------ 1.3/1.9 MB 1.1 MB/s eta 0:00:01\n",
      "   --------------------------- ------------ 1.3/1.9 MB 1.1 MB/s eta 0:00:01\n",
      "   ------------------------------- -------- 1.5/1.9 MB 1.1 MB/s eta 0:00:01\n",
      "   ------------------------------- -------- 1.5/1.9 MB 1.1 MB/s eta 0:00:01\n",
      "   ------------------------------- -------- 1.5/1.9 MB 1.1 MB/s eta 0:00:01\n",
      "   ------------------------------- -------- 1.5/1.9 MB 1.1 MB/s eta 0:00:01\n",
      "   ---------------------------------- ----- 1.6/1.9 MB 1.1 MB/s eta 0:00:01\n",
      "   ----------------------------------- ---- 1.7/1.9 MB 1.1 MB/s eta 0:00:01\n",
      "   ----------------------------------- ---- 1.7/1.9 MB 1.1 MB/s eta 0:00:01\n",
      "   ----------------------------------- ---- 1.7/1.9 MB 1.1 MB/s eta 0:00:01\n",
      "   ----------------------------------- ---- 1.7/1.9 MB 1.1 MB/s eta 0:00:01\n",
      "   ----------------------------------- ---- 1.7/1.9 MB 1.1 MB/s eta 0:00:01\n",
      "   ------------------------------------ --- 1.7/1.9 MB 946.5 kB/s eta 0:00:01\n",
      "   ------------------------------------ --- 1.7/1.9 MB 935.5 kB/s eta 0:00:01\n",
      "   -------------------------------------- - 1.8/1.9 MB 942.7 kB/s eta 0:00:01\n",
      "   ---------------------------------------  1.8/1.9 MB 954.2 kB/s eta 0:00:01\n",
      "   ---------------------------------------  1.9/1.9 MB 947.0 kB/s eta 0:00:01\n",
      "   ---------------------------------------- 1.9/1.9 MB 943.1 kB/s eta 0:00:00\n",
      "Downloading websockets-12.0-cp310-cp310-win_amd64.whl (124 kB)\n",
      "   ---------------------------------------- 0.0/125.0 kB ? eta -:--:--\n",
      "   ---------------------------------------- 125.0/125.0 kB 7.6 MB/s eta 0:00:00\n",
      "Downloading annotated_types-0.6.0-py3-none-any.whl (12 kB)\n",
      "Downloading h11-0.14.0-py3-none-any.whl (58 kB)\n",
      "   ---------------------------------------- 0.0/58.3 kB ? eta -:--:--\n",
      "   ---------------------------------------- 58.3/58.3 kB 3.0 MB/s eta 0:00:00\n",
      "Installing collected packages: websockets, pydantic-core, h11, annotated-types, pydantic, httpcore, httpx, assemblyai\n",
      "Successfully installed annotated-types-0.6.0 assemblyai-0.24.0 h11-0.14.0 httpcore-1.0.5 httpx-0.27.0 pydantic-2.6.4 pydantic-core-2.16.3 websockets-12.0\n"
     ]
    }
   ],
   "source": [
    "%pip install assemblyai"
   ]
  },
  {
   "cell_type": "code",
   "execution_count": 6,
   "metadata": {},
   "outputs": [
    {
     "name": "stdout",
     "output_type": "stream",
     "text": [
      "Defaulting to user installation because normal site-packages is not writeableNote: you may need to restart the kernel to use updated packages.\n"
     ]
    },
    {
     "name": "stderr",
     "output_type": "stream",
     "text": [
      "\n",
      "[notice] A new release of pip is available: 23.2.1 -> 24.0\n",
      "[notice] To update, run: python.exe -m pip install --upgrade pip\n"
     ]
    },
    {
     "name": "stdout",
     "output_type": "stream",
     "text": [
      "\n",
      "Collecting pyaudio\n",
      "  Obtaining dependency information for pyaudio from https://files.pythonhosted.org/packages/27/bc/719d140ee63cf4b0725016531d36743a797ffdbab85e8536922902c9349a/PyAudio-0.2.14-cp310-cp310-win_amd64.whl.metadata\n",
      "  Downloading PyAudio-0.2.14-cp310-cp310-win_amd64.whl.metadata (2.7 kB)\n",
      "Downloading PyAudio-0.2.14-cp310-cp310-win_amd64.whl (164 kB)\n",
      "   ---------------------------------------- 0.0/164.1 kB ? eta -:--:--\n",
      "   --------- ----------------------------- 41.0/164.1 kB 991.0 kB/s eta 0:00:01\n",
      "   --------- ----------------------------- 41.0/164.1 kB 991.0 kB/s eta 0:00:01\n",
      "   ----------------- --------------------- 71.7/164.1 kB 653.6 kB/s eta 0:00:01\n",
      "   --------------------- ----------------- 92.2/164.1 kB 581.0 kB/s eta 0:00:01\n",
      "   -------------------------- ----------- 112.6/164.1 kB 504.4 kB/s eta 0:00:01\n",
      "   ---------------------------- --------- 122.9/164.1 kB 479.3 kB/s eta 0:00:01\n",
      "   -------------------------------------- 164.1/164.1 kB 517.9 kB/s eta 0:00:00\n",
      "Installing collected packages: pyaudio\n",
      "Successfully installed pyaudio-0.2.14\n"
     ]
    }
   ],
   "source": [
    "%pip install pyaudio"
   ]
  },
  {
   "cell_type": "code",
   "execution_count": 7,
   "metadata": {},
   "outputs": [
    {
     "name": "stdout",
     "output_type": "stream",
     "text": [
      "Defaulting to user installation because normal site-packages is not writeable\n",
      "Requirement already satisfied: websockets in c:\\users\\tuf\\appdata\\roaming\\python\\python310\\site-packages (12.0)\n",
      "Note: you may need to restart the kernel to use updated packages.\n"
     ]
    },
    {
     "name": "stderr",
     "output_type": "stream",
     "text": [
      "\n",
      "[notice] A new release of pip is available: 23.2.1 -> 24.0\n",
      "[notice] To update, run: python.exe -m pip install --upgrade pip\n"
     ]
    }
   ],
   "source": [
    "%pip install websockets"
   ]
  },
  {
   "cell_type": "code",
   "execution_count": null,
   "metadata": {},
   "outputs": [],
   "source": [
    "import websockets\n",
    "import asyncio\n",
    "import base64\n",
    "import json\n",
    "# from configure import auth_key\n",
    "\n",
    "import pyaudio\n",
    " \n",
    "FRAMES_PER_BUFFER = 3200\n",
    "FORMAT = pyaudio.paInt16\n",
    "CHANNELS = 1\n",
    "RATE = 16000\n",
    "p = pyaudio.PyAudio()\n",
    " \n",
    "# starts recording\n",
    "stream = p.open(\n",
    "\tformat=FORMAT,\n",
    "\tchannels=CHANNELS,\n",
    "\trate=RATE,\n",
    "\tinput=True,\n",
    "\tframes_per_buffer=FRAMES_PER_BUFFER\n",
    ")\n",
    " \n",
    "# the AssemblyAI endpoint we're going to hit\n",
    "URL = \"wss://api.assemblyai.com/v2/realtime/ws?sample_rate=16000\"\n",
    " \n",
    "async def send_receive():\n",
    "\n",
    "\tprint(f'Connecting websocket to url ${URL}')\n",
    "\n",
    "\tasync with websockets.connect(\n",
    "\t\tURL,\n",
    "\t\textra_headers=((\"Authorization\", auth_key),),\n",
    "\t\tping_interval=5,\n",
    "\t\tping_timeout=20\n",
    "\t) as _ws:\n",
    "\n",
    "\t\tawait asyncio.sleep(0.1)\n",
    "\t\tprint(\"Receiving SessionBegins ...\")\n",
    "\n",
    "\t\tsession_begins = await _ws.recv()\n",
    "\t\tprint(session_begins)\n",
    "\t\tprint(\"Sending messages ...\")\n",
    "\n",
    "\n",
    "\t\tasync def send():\n",
    "\t\t\twhile True:\n",
    "\t\t\t\ttry:\n",
    "\t\t\t\t\tdata = stream.read(FRAMES_PER_BUFFER)\n",
    "\t\t\t\t\tdata = base64.b64encode(data).decode(\"utf-8\")\n",
    "\t\t\t\t\tjson_data = json.dumps({\"audio_data\":str(data)})\n",
    "\t\t\t\t\tawait _ws.send(json_data)\n",
    "\n",
    "\t\t\t\texcept websockets.exceptions.ConnectionClosedError as e:\n",
    "\t\t\t\t\tprint(e)\n",
    "\t\t\t\t\tassert e.code == 4008\n",
    "\t\t\t\t\tbreak\n",
    "\n",
    "\t\t\t\texcept Exception as e:\n",
    "\t\t\t\t\tassert False, \"Not a websocket 4008 error\"\n",
    "\n",
    "\t\t\t\tawait asyncio.sleep(0.01)\n",
    "\t\t  \n",
    "\t\t\treturn True\n",
    "\t  \n",
    "\n",
    "\t\tasync def receive():\n",
    "\t\t\twhile True:\n",
    "\t\t\t\ttry:\n",
    "\t\t\t\t\tresult_str = await _ws.recv()\n",
    "\t\t\t\t\tprint(json.loads(result_str)['text'])\n",
    "\n",
    "\t\t\t\texcept websockets.exceptions.ConnectionClosedError as e:\n",
    "\t\t\t\t\tprint(e)\n",
    "\t\t\t\t\tassert e.code == 4008\n",
    "\t\t\t\t\tbreak\n",
    "\n",
    "\t\t\t\texcept Exception as e:\n",
    "\t\t\t\t\tassert False, \"Not a websocket 4008 error\"\n",
    "\t  \n",
    "\t\tsend_result, receive_result = await asyncio.gather(send(), receive())\n",
    "\n",
    "while True:\n",
    "\tasyncio.run(send_receive())"
   ]
  },
  {
   "cell_type": "code",
   "execution_count": 4,
   "metadata": {},
   "outputs": [
    {
     "name": "stdout",
     "output_type": "stream",
     "text": [
      "I'm David Curley at the Smithsonian Air and Space Museum, where we are marking 50 years since man landed and walked on the moon in a lander just like this one. We are going to show you some of the actual ABC News coverage from 50 years ago. During that eight day mission of this remarkable achievement, Apollo Eleven's lander, the Eagle, would be the first man craft to land on the moon. For training, NASA came up with an unusual contraption. Neil Armstrong actually had to eject from it once, and then he had a couple of successful flights. ABC News anchor at the time, 50 years ago, Frank Reynolds with a look at that unusual trainer. Apollo Eleven Commander Neil Armstrong is at the controls of a lunar landing training vehicle, testing the reaction control jets. These thrusters stabilize the LEM during landing and takeoff. The LLTV is designed to simulate the behavior of the LEM as it lands in the moon's gravity. Lunar gravity is one 6th that of the Earth's. Neil ArmstroNG flew one of these vehicles on May 6, 1968, and that flight was nearly his last. Later reports by a NASA investigating team said the crash, which we'll see soon, was caused by a loss of fuel pressure compounded by a warning light that failed to work. Armstrong's coolness under pressure saved himself and possibly months of delay for the Apollo program. Later that same year, 1968, another test pilot, Joseph Allegranti, also escaped from an LLTV just before it crashed. The training vehicle then underwent several design modifications and improvements. Engineers had to increase the vehicle's rocket power to help stabilize the craft. That made the LLTV less of a moon gravity simulator, but it improved pilot safety. On June 16, 1969, Neil Armstrong flew the vehicle, sometimes called the flying bedstead, to several perfect landings. The question was, how does the machine fly? And the answer is that we're very pleased with the way it flies. It's a significant improvement over the LLRV, which we were flying here a year ago, and I think it does an, an excellent job of actually capturing the handling characteristics of the lunar module in landing maneuver. It's really a great deal different than any other kind of aircraft that I've ever flown. The simulation of lunar gravity has some aspects that make this type of flight sufficiently different from anything else we've ever done to make this vehicle very worthwhile. And I'm very pleased that I had the opportunity to get some flights in it here just before the Apollo eleven flight.\n"
     ]
    }
   ],
   "source": [
    "import assemblyai as aai\n",
    "\n",
    "aai.settings.api_key = \"a220a8023ff44b8b9ee8d7498ac1ba64\"\n",
    "transcriber = aai.Transcriber()\n",
    "\n",
    "transcript = transcriber.transcribe(\"https://storage.googleapis.com/aai-web-samples/news.mp4\")\n",
    "# transcript = transcriber.transcribe(\"./my-local-audio-file.wav\")\n",
    "\n",
    "print(transcript.text)"
   ]
  }
 ],
 "metadata": {
  "kernelspec": {
   "display_name": "Python 3",
   "language": "python",
   "name": "python3"
  },
  "language_info": {
   "codemirror_mode": {
    "name": "ipython",
    "version": 3
   },
   "file_extension": ".py",
   "mimetype": "text/x-python",
   "name": "python",
   "nbconvert_exporter": "python",
   "pygments_lexer": "ipython3",
   "version": "3.10.7"
  }
 },
 "nbformat": 4,
 "nbformat_minor": 2
}
